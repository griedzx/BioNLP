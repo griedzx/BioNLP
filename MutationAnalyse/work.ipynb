{
 "cells": [
  {
   "cell_type": "code",
   "execution_count": 87,
   "metadata": {},
   "outputs": [],
   "source": [
    "import pandas as pd\n",
    "import numpy as np"
   ]
  },
  {
   "cell_type": "code",
   "execution_count": 88,
   "metadata": {},
   "outputs": [
    {
     "data": {
      "text/html": [
       "<div>\n",
       "<style scoped>\n",
       "    .dataframe tbody tr th:only-of-type {\n",
       "        vertical-align: middle;\n",
       "    }\n",
       "\n",
       "    .dataframe tbody tr th {\n",
       "        vertical-align: top;\n",
       "    }\n",
       "\n",
       "    .dataframe thead th {\n",
       "        text-align: right;\n",
       "    }\n",
       "</style>\n",
       "<table border=\"1\" class=\"dataframe\">\n",
       "  <thead>\n",
       "    <tr style=\"text-align: right;\">\n",
       "      <th></th>\n",
       "      <th>pmid</th>\n",
       "      <th>start</th>\n",
       "      <th>end</th>\n",
       "      <th>entity</th>\n",
       "      <th>annotation</th>\n",
       "      <th>text</th>\n",
       "    </tr>\n",
       "  </thead>\n",
       "  <tbody>\n",
       "    <tr>\n",
       "      <th>0</th>\n",
       "      <td>37796141</td>\n",
       "      <td>64</td>\n",
       "      <td>72</td>\n",
       "      <td>patients</td>\n",
       "      <td>Species</td>\n",
       "      <td>9606</td>\n",
       "    </tr>\n",
       "    <tr>\n",
       "      <th>1</th>\n",
       "      <td>37796141</td>\n",
       "      <td>116</td>\n",
       "      <td>124</td>\n",
       "      <td>COVID-19</td>\n",
       "      <td>Disease</td>\n",
       "      <td>MESH:C000657245</td>\n",
       "    </tr>\n",
       "    <tr>\n",
       "      <th>2</th>\n",
       "      <td>37796141</td>\n",
       "      <td>337</td>\n",
       "      <td>339</td>\n",
       "      <td>PD</td>\n",
       "      <td>Disease</td>\n",
       "      <td>MESH:D010300</td>\n",
       "    </tr>\n",
       "    <tr>\n",
       "      <th>3</th>\n",
       "      <td>37796141</td>\n",
       "      <td>341</td>\n",
       "      <td>349</td>\n",
       "      <td>patients</td>\n",
       "      <td>Species</td>\n",
       "      <td>9606</td>\n",
       "    </tr>\n",
       "    <tr>\n",
       "      <th>4</th>\n",
       "      <td>37796141</td>\n",
       "      <td>362</td>\n",
       "      <td>370</td>\n",
       "      <td>COVID-19</td>\n",
       "      <td>Disease</td>\n",
       "      <td>MESH:C000657245</td>\n",
       "    </tr>\n",
       "  </tbody>\n",
       "</table>\n",
       "</div>"
      ],
      "text/plain": [
       "       pmid  start  end    entity annotation             text\n",
       "0  37796141     64   72  patients    Species             9606\n",
       "1  37796141    116  124  COVID-19    Disease  MESH:C000657245\n",
       "2  37796141    337  339        PD    Disease     MESH:D010300\n",
       "3  37796141    341  349  patients    Species             9606\n",
       "4  37796141    362  370  COVID-19    Disease  MESH:C000657245"
      ]
     },
     "execution_count": 88,
     "metadata": {},
     "output_type": "execute_result"
    }
   ],
   "source": [
    "#读取entity.tsv\n",
    "entity = pd.read_csv('/home/yh/dzx/work/BioNLP/work_data/entity.tsv', sep='\\t', header=None)\n",
    "entity.columns = ['pmid', 'start', 'end', 'entity', 'annotation', 'text']\n",
    "entity.head()"
   ]
  },
  {
   "cell_type": "code",
   "execution_count": 89,
   "metadata": {},
   "outputs": [
    {
     "data": {
      "text/plain": [
       "[('37796141',\n",
       "  {'title': 'Current status of exercise and its impact on quality of life in patients undergoing peritoneal dialysis in the post-COVID-19 period.',\n",
       "   'abstract': 'OBJECTIVES: The aims of this study were to investigate the current status and the influence factors of exercise, and to explore the impact of exercise on the quality of life (QoL) in peritoneal dialysis (PD) patients in the post-COVID-19 period. MATERIALS AND METHODS: Those PD patients who were followed up between September 2020 and August 2021 were enrolled. The collected data included demographic information, clinical data, exercise data, and QoL. RESULTS: In total, 339 PD patients were included in this cross-sectional study. The mean age was 44.0 +- 13.0 years, with a median PD duration of 6.7 (1.7 - 41.9) months. The primary renal disease was glomerulonephritis (68.4%). 277 (81.7%) PD patients performed exercise, with median exercise time 5.0 (3.5 - 7.8) hours per week. The main type of exercise was slow walking. Pain (odds ratio (OR) = 0.311, p = 0.002) and lower hemoglobin level (OR = 1.016, p = 0.033) were independent risk factors for exercise. Moreover, male sex (B = 2.803, p < 0.001) was an independent protective factor, while advanced age (B = -0.097, p < 0.001), higher body mass index (B = -0.154, p < 0.001), and pain (B = -0.643, p = 0.023) were independent risk factors for exercise intensity. After adjustment for other confounders, exercise (B = 5.787, p = 0.037) was an independent protective factor for total score of QoL in PD patients. CONCLUSION: In the current study, 81.7% of PD patients performed exercise in the post-COVID-19 period. Pain and anemia were independent risk factors for exercise in PD patients. Advanced age, female sex, higher body mass index, and pain were independently associated with lower exercise capacity in PD patients. PD patients undergoing exercise had better QoL.'}),\n",
       " ('37795527',\n",
       "  {'title': 'Prolonged shedding of viable SARS-CoV-2 in immunocompromised patients with haematological malignancies: A prospective study.',\n",
       "   'abstract': 'Prolonged SARS-CoV-2 infection in immunocompromised individuals has been scattered, but the details remain unclear. We conducted a prospective study with 26 COVID-19 patients with haematological malignancies to determine viral shedding kinetics and characteristics. We obtained nasopharyngeal swabs from the patients 21-28 days post-onset for a PCR test and performed virus isolation from the PCR-positive samples. A viable virus was detected in five patients (19.2%), all of whom had malignant lymphoma. Those patients had significantly lower CD4+ T-cell counts than the PCR-negative patients. A comparison of previous chemotherapy showed that anti-CD20 antibodies and bendamustine may be risk factors for prolonged viral shedding.'})]"
      ]
     },
     "execution_count": 89,
     "metadata": {},
     "output_type": "execute_result"
    }
   ],
   "source": [
    "import re\n",
    "\n",
    "# Open the file and read each line\n",
    "with open('/home/yh/dzx/work/BioNLP/work_data/abstract.txt', 'r') as f:\n",
    "    lines = f.readlines()\n",
    "\n",
    "# Define the regular expression pattern to match the pmid, title, and abstract\n",
    "pattern = r'^(\\d+)\\|(t|a)\\|(.+)$'\n",
    "\n",
    "# Initialize a dictionary to store the pmid, title, and abstract for each article\n",
    "articles = {}\n",
    "\n",
    "# Loop through each line and extract the pmid, title, and abstract\n",
    "for line in lines:\n",
    "    match = re.match(pattern, line)\n",
    "    if match:\n",
    "        pmid = match.group(1)\n",
    "        section = match.group(2)\n",
    "        text = match.group(3)\n",
    "        if pmid not in articles:\n",
    "            articles[pmid] = {}\n",
    "        if section == 't':\n",
    "            articles[pmid]['title'] = text\n",
    "        elif section == 'a':\n",
    "            articles[pmid]['abstract'] = text\n",
    "            \n",
    "#展示\n",
    "list(articles.items())[:2]"
   ]
  },
  {
   "cell_type": "code",
   "execution_count": 90,
   "metadata": {},
   "outputs": [
    {
     "data": {
      "text/html": [
       "<div>\n",
       "<style scoped>\n",
       "    .dataframe tbody tr th:only-of-type {\n",
       "        vertical-align: middle;\n",
       "    }\n",
       "\n",
       "    .dataframe tbody tr th {\n",
       "        vertical-align: top;\n",
       "    }\n",
       "\n",
       "    .dataframe thead th {\n",
       "        text-align: right;\n",
       "    }\n",
       "</style>\n",
       "<table border=\"1\" class=\"dataframe\">\n",
       "  <thead>\n",
       "    <tr style=\"text-align: right;\">\n",
       "      <th></th>\n",
       "      <th>pmid</th>\n",
       "      <th>start</th>\n",
       "      <th>end</th>\n",
       "      <th>entity</th>\n",
       "      <th>annotation</th>\n",
       "      <th>text</th>\n",
       "    </tr>\n",
       "  </thead>\n",
       "  <tbody>\n",
       "    <tr>\n",
       "      <th>4299</th>\n",
       "      <td>37722481</td>\n",
       "      <td>674</td>\n",
       "      <td>679</td>\n",
       "      <td>K129R</td>\n",
       "      <td>ProteinMutation</td>\n",
       "      <td>tmVar:p|SUB|K|129|R;HGVS:p.K129R;VariantGroup:3</td>\n",
       "    </tr>\n",
       "    <tr>\n",
       "      <th>4300</th>\n",
       "      <td>37722481</td>\n",
       "      <td>681</td>\n",
       "      <td>686</td>\n",
       "      <td>V722I</td>\n",
       "      <td>ProteinMutation</td>\n",
       "      <td>tmVar:p|SUB|V|722|I;HGVS:p.V722I;VariantGroup:5</td>\n",
       "    </tr>\n",
       "    <tr>\n",
       "      <th>4301</th>\n",
       "      <td>37722481</td>\n",
       "      <td>691</td>\n",
       "      <td>696</td>\n",
       "      <td>V987F</td>\n",
       "      <td>ProteinMutation</td>\n",
       "      <td>tmVar:p|SUB|V|987|F;HGVS:p.V987F;VariantGroup:4</td>\n",
       "    </tr>\n",
       "    <tr>\n",
       "      <th>4302</th>\n",
       "      <td>37722481</td>\n",
       "      <td>826</td>\n",
       "      <td>831</td>\n",
       "      <td>E340K</td>\n",
       "      <td>ProteinMutation</td>\n",
       "      <td>tmVar:p|SUB|E|340|K;HGVS:p.E340K;VariantGroup:6</td>\n",
       "    </tr>\n",
       "    <tr>\n",
       "      <th>4303</th>\n",
       "      <td>37722481</td>\n",
       "      <td>833</td>\n",
       "      <td>838</td>\n",
       "      <td>K356R</td>\n",
       "      <td>ProteinMutation</td>\n",
       "      <td>tmVar:p|SUB|K|356|R;HGVS:p.K356R;VariantGroup:0</td>\n",
       "    </tr>\n",
       "  </tbody>\n",
       "</table>\n",
       "</div>"
      ],
      "text/plain": [
       "          pmid  start  end entity       annotation  \\\n",
       "4299  37722481    674  679  K129R  ProteinMutation   \n",
       "4300  37722481    681  686  V722I  ProteinMutation   \n",
       "4301  37722481    691  696  V987F  ProteinMutation   \n",
       "4302  37722481    826  831  E340K  ProteinMutation   \n",
       "4303  37722481    833  838  K356R  ProteinMutation   \n",
       "\n",
       "                                                 text  \n",
       "4299  tmVar:p|SUB|K|129|R;HGVS:p.K129R;VariantGroup:3  \n",
       "4300  tmVar:p|SUB|V|722|I;HGVS:p.V722I;VariantGroup:5  \n",
       "4301  tmVar:p|SUB|V|987|F;HGVS:p.V987F;VariantGroup:4  \n",
       "4302  tmVar:p|SUB|E|340|K;HGVS:p.E340K;VariantGroup:6  \n",
       "4303  tmVar:p|SUB|K|356|R;HGVS:p.K356R;VariantGroup:0  "
      ]
     },
     "execution_count": 90,
     "metadata": {},
     "output_type": "execute_result"
    }
   ],
   "source": [
    "#提取出annotation列中含有Mutation的行\n",
    "entity = entity[entity['annotation'].str.contains('Mutation')].copy()\n",
    "entity.head()"
   ]
  },
  {
   "cell_type": "code",
   "execution_count": 91,
   "metadata": {},
   "outputs": [
    {
     "data": {
      "text/plain": [
       "21"
      ]
     },
     "execution_count": 91,
     "metadata": {},
     "output_type": "execute_result"
    }
   ],
   "source": [
    "#提取出对应pmid编号去重\n",
    "pmid_list = entity['pmid'].unique().tolist()\n",
    "len(pmid_list)"
   ]
  },
  {
   "cell_type": "code",
   "execution_count": 92,
   "metadata": {},
   "outputs": [
    {
     "data": {
      "text/plain": [
       "37511668"
      ]
     },
     "execution_count": 92,
     "metadata": {},
     "output_type": "execute_result"
    }
   ],
   "source": [
    "pmid_list[1]\n"
   ]
  },
  {
   "cell_type": "code",
   "execution_count": 93,
   "metadata": {},
   "outputs": [
    {
     "data": {
      "text/plain": [
       "{'title': 'Persistent Symptoms and IFN-gamma-Mediated Pathways after COVID-19.',\n",
       " 'abstract': \"After COVID-19, patients have reported various complaints such as fatigue, neurological symptoms, and insomnia. Immune-mediated changes in amino acid metabolism might contribute to the development of these symptoms. Patients who had had acute, PCR-confirmed COVID-19 infection about 60 days earlier were recruited within the scope of the prospective CovILD study. We determined the inflammatory parameters and alterations in tryptophan and phenylalanine metabolism in 142 patients cross-sectionally. Symptom persistence (pain, gastrointestinal symptoms, anosmia, sleep disturbance, and neurological symptoms) and patients' physical levels of functioning were recorded. Symptoms improved in many patients after acute COVID-19 (n = 73, 51.4%). Still, a high percentage of patients had complaints, and women were affected more often. In many patients, ongoing immune activation (as indicated by high neopterin and CRP concentrations) and enhanced tryptophan catabolism were found. A higher phenylalanine to tyrosine ratio (Phe/Tyr) was found in women with a lower level of functioning. Patients who reported improvements in pain had lower Phe/Tyr ratios, while patients with improved gastrointestinal symptoms presented with higher tryptophan and kynurenine values. Our results suggest that women have persistent symptoms after COVID-19 more often than men. In addition, the physical level of functioning and the improvements in certain symptoms appear to be associated with immune-mediated changes in amino acid metabolism.\"}"
      ]
     },
     "execution_count": 93,
     "metadata": {},
     "output_type": "execute_result"
    }
   ],
   "source": [
    "articles['37511668']"
   ]
  },
  {
   "cell_type": "code",
   "execution_count": 94,
   "metadata": {},
   "outputs": [
    {
     "data": {
      "text/plain": [
       "{'title': 'Persistent Symptoms and IFN-gamma-Mediated Pathways after COVID-19.',\n",
       " 'abstract': \"After COVID-19, patients have reported various complaints such as fatigue, neurological symptoms, and insomnia. Immune-mediated changes in amino acid metabolism might contribute to the development of these symptoms. Patients who had had acute, PCR-confirmed COVID-19 infection about 60 days earlier were recruited within the scope of the prospective CovILD study. We determined the inflammatory parameters and alterations in tryptophan and phenylalanine metabolism in 142 patients cross-sectionally. Symptom persistence (pain, gastrointestinal symptoms, anosmia, sleep disturbance, and neurological symptoms) and patients' physical levels of functioning were recorded. Symptoms improved in many patients after acute COVID-19 (n = 73, 51.4%). Still, a high percentage of patients had complaints, and women were affected more often. In many patients, ongoing immune activation (as indicated by high neopterin and CRP concentrations) and enhanced tryptophan catabolism were found. A higher phenylalanine to tyrosine ratio (Phe/Tyr) was found in women with a lower level of functioning. Patients who reported improvements in pain had lower Phe/Tyr ratios, while patients with improved gastrointestinal symptoms presented with higher tryptophan and kynurenine values. Our results suggest that women have persistent symptoms after COVID-19 more often than men. In addition, the physical level of functioning and the improvements in certain symptoms appear to be associated with immune-mediated changes in amino acid metabolism.\"}"
      ]
     },
     "execution_count": 94,
     "metadata": {},
     "output_type": "execute_result"
    }
   ],
   "source": [
    "#将pmid_list中所有元素转换成含有双引号的字符串\n",
    "pmid_list = [str(pmid) for pmid in pmid_list]\n",
    "pmid_list[1]\n",
    "articles[pmid_list[1]]"
   ]
  },
  {
   "cell_type": "code",
   "execution_count": 95,
   "metadata": {},
   "outputs": [
    {
     "name": "stdout",
     "output_type": "stream",
     "text": [
      "Persistent Symptoms and IFN-gamma-Mediated Pathways after COVID-19.\n",
      "After COVID-19, patients have reported various complaints such as fatigue, neurological symptoms, and insomnia. Immune-mediated changes in amino acid metabolism might contribute to the development of these symptoms. Patients who had had acute, PCR-confirmed COVID-19 infection about 60 days earlier were recruited within the scope of the prospective CovILD study. We determined the inflammatory parameters and alterations in tryptophan and phenylalanine metabolism in 142 patients cross-sectionally. Symptom persistence (pain, gastrointestinal symptoms, anosmia, sleep disturbance, and neurological symptoms) and patients' physical levels of functioning were recorded. Symptoms improved in many patients after acute COVID-19 (n = 73, 51.4%). Still, a high percentage of patients had complaints, and women were affected more often. In many patients, ongoing immune activation (as indicated by high neopterin and CRP concentrations) and enhanced tryptophan catabolism were found. A higher phenylalanine to tyrosine ratio (Phe/Tyr) was found in women with a lower level of functioning. Patients who reported improvements in pain had lower Phe/Tyr ratios, while patients with improved gastrointestinal symptoms presented with higher tryptophan and kynurenine values. Our results suggest that women have persistent symptoms after COVID-19 more often than men. In addition, the physical level of functioning and the improvements in certain symptoms appear to be associated with immune-mediated changes in amino acid metabolism.\n"
     ]
    }
   ],
   "source": [
    "#根据pmid_list提取出对应的title和abstract\n",
    "mutation_abstract = []\n",
    "mutation_title = []\n",
    "for pmid in pmid_list:\n",
    "    if pmid in articles:\n",
    "        if 'abstract' in articles[pmid]:\n",
    "            mutation_abstract.append(articles[pmid]['abstract'])\n",
    "        else:\n",
    "            mutation_abstract.append('')\n",
    "        if 'title' in articles[pmid]:\n",
    "            mutation_title.append(articles[pmid]['title'])\n",
    "        else:\n",
    "            mutation_title.append('')\n",
    "    else:\n",
    "        mutation_abstract.append('')\n",
    "        mutation_title.append('')\n",
    "#展示\n",
    "print (mutation_title[1])\n",
    "print (mutation_abstract[1])"
   ]
  },
  {
   "cell_type": "markdown",
   "metadata": {},
   "source": [
    "上述是从主题关于long covid的文献中筛选出含有Mutation实体的文献标题和摘要"
   ]
  },
  {
   "cell_type": "code",
   "execution_count": 96,
   "metadata": {},
   "outputs": [
    {
     "name": "stdout",
     "output_type": "stream",
     "text": [
      "            pmid  start   end                     entity       annotation  \\\n",
      "4299    37722481    674   679                      K129R  ProteinMutation   \n",
      "4300    37722481    681   686                      V722I  ProteinMutation   \n",
      "4301    37722481    691   696                      V987F  ProteinMutation   \n",
      "4302    37722481    826   831                      E340K  ProteinMutation   \n",
      "4303    37722481    833   838                      K356R  ProteinMutation   \n",
      "4304    37722481    840   845                      R346T  ProteinMutation   \n",
      "4305    37722481    850   855                      E484V  ProteinMutation   \n",
      "13533   37511668   1055  1080  phenylalanine to tyrosine  ProteinMutation   \n",
      "46021   36944811   1218  1222                       N05A  ProteinMutation   \n",
      "46022   36944811   1242  1246                       N06A  ProteinMutation   \n",
      "46200   36943439     95    99                       D614  ProteinMutation   \n",
      "46211   36943439    796   801                      D614G  ProteinMutation   \n",
      "46227   36943439   2029  2034                      D614G  ProteinMutation   \n",
      "50832   36857178   1119  1127                   -2604G>A      DNAMutation   \n",
      "62338   36669646    163   168                      K403R  ProteinMutation   \n",
      "68625   36560604   1596  1600                       E64D  ProteinMutation   \n",
      "76310   36425003   1246  1255                  lysine 53  ProteinMutation   \n",
      "76311   36425003   1390  1394                       K53R  ProteinMutation   \n",
      "102072  35996593    879   883                       T30I  ProteinMutation   \n",
      "113191  35831257     23    28                      L452R  ProteinMutation   \n",
      "123137  35639041    812   815                        A1C      DNAMutation   \n",
      "134599  35430092    872   877                      E484Q  ProteinMutation   \n",
      "134600  35430092    882   887                      S494P  ProteinMutation   \n",
      "136834  35384599    106   113                    p.R349W  ProteinMutation   \n",
      "136845  35384599    806   818               c.1045 C > T      DNAMutation   \n",
      "136846  35384599    820   827                    p.R349W  ProteinMutation   \n",
      "136861  35384599   1363  1370                    p.R349W  ProteinMutation   \n",
      "150844  35150193    836   841                      G142D  ProteinMutation   \n",
      "155892  35056592    893   898                      E484K  ProteinMutation   \n",
      "167899  34833135    681   686                      V143D  ProteinMutation   \n",
      "167900  34833135    703   708                      E484K  ProteinMutation   \n",
      "193433  34387618    861   864                        T2A      DNAMutation   \n",
      "198480  34319130    822   826                       S50L  ProteinMutation   \n",
      "198481  34319130    828   832                       N87S  ProteinMutation   \n",
      "198482  34319130    838   843                      A222V  ProteinMutation   \n",
      "216134  34009992   1460  1479        glutamine/glutamate  ProteinMutation   \n",
      "243496  33299899    849   852                        A2A      DNAMutation   \n",
      "251918  32989130   1231  1238                    D839Y/N  ProteinMutation   \n",
      "\n",
      "                                                     text  \n",
      "4299      tmVar:p|SUB|K|129|R;HGVS:p.K129R;VariantGroup:3  \n",
      "4300      tmVar:p|SUB|V|722|I;HGVS:p.V722I;VariantGroup:5  \n",
      "4301      tmVar:p|SUB|V|987|F;HGVS:p.V987F;VariantGroup:4  \n",
      "4302      tmVar:p|SUB|E|340|K;HGVS:p.E340K;VariantGroup:6  \n",
      "4303      tmVar:p|SUB|K|356|R;HGVS:p.K356R;VariantGroup:0  \n",
      "4304      tmVar:p|SUB|R|346|T;HGVS:p.R346T;VariantGroup:2  \n",
      "4305      tmVar:p|SUB|E|484|V;HGVS:p.E484V;VariantGroup:1  \n",
      "13533   tmVar:p|SUB|F||Y;VariantGroup:0;CorrespondingG...  \n",
      "46021       tmVar:p|SUB|N|05|A;HGVS:p.N05A;VariantGroup:0  \n",
      "46022       tmVar:p|SUB|N|06|A;HGVS:p.N06A;VariantGroup:1  \n",
      "46200                 tmVar:p|Allele|D|614;VariantGroup:0  \n",
      "46211     tmVar:p|SUB|D|614|G;HGVS:p.D614G;VariantGroup:0  \n",
      "46227     tmVar:p|SUB|D|614|G;HGVS:p.D614G;VariantGroup:0  \n",
      "50832   tmVar:c|SUB|G|-2604|A;HGVS:c.-2604G>A;VariantG...  \n",
      "62338   tmVar:p|SUB|K|403|R;HGVS:p.K403R;VariantGroup:...  \n",
      "68625       tmVar:p|SUB|E|64|D;HGVS:p.E64D;VariantGroup:0  \n",
      "76310   tmVar:p|Allele|K|53;VariantGroup:0;Correspondi...  \n",
      "76311   tmVar:p|SUB|K|53|R;HGVS:p.K53R;VariantGroup:0;...  \n",
      "102072  tmVar:p|SUB|T|30|I;HGVS:p.T30I;VariantGroup:0;...  \n",
      "113191    tmVar:p|SUB|L|452|R;HGVS:p.L452R;VariantGroup:0  \n",
      "123137  tmVar:c|SUB|A|1|C;HGVS:c.1A>C;VariantGroup:0;C...  \n",
      "134599    tmVar:p|SUB|E|484|Q;HGVS:p.E484Q;VariantGroup:0  \n",
      "134600    tmVar:p|SUB|S|494|P;HGVS:p.S494P;VariantGroup:1  \n",
      "136834  tmVar:p|SUB|R|349|W;HGVS:p.R349W;VariantGroup:...  \n",
      "136845  tmVar:c|SUB|C|1045|T;HGVS:c.1045C>T;VariantGro...  \n",
      "136846  tmVar:p|SUB|R|349|W;HGVS:p.R349W;VariantGroup:...  \n",
      "136861  tmVar:p|SUB|R|349|W;HGVS:p.R349W;VariantGroup:...  \n",
      "150844    tmVar:p|SUB|G|142|D;HGVS:p.G142D;VariantGroup:0  \n",
      "155892  tmVar:p|SUB|E|484|K;HGVS:p.E484K;VariantGroup:...  \n",
      "167899    tmVar:p|SUB|V|143|D;HGVS:p.V143D;VariantGroup:1  \n",
      "167900    tmVar:p|SUB|E|484|K;HGVS:p.E484K;VariantGroup:0  \n",
      "193433       tmVar:c|SUB|T|2|A;HGVS:c.2T>A;VariantGroup:0  \n",
      "198480      tmVar:p|SUB|S|50|L;HGVS:p.S50L;VariantGroup:0  \n",
      "198481      tmVar:p|SUB|N|87|S;HGVS:p.N87S;VariantGroup:2  \n",
      "198482    tmVar:p|SUB|A|222|V;HGVS:p.A222V;VariantGroup:1  \n",
      "216134  tmVar:p|Allele|Q,E|;VariantGroup:0;Correspondi...  \n",
      "243496  tmVar:c|SUB|A|2|A;HGVS:c.2A>A;VariantGroup:0;C...  \n",
      "251918  tmVar:p|SUB|D|839|Y,N;HGVS:p.D839Y,N;VariantGr...  \n"
     ]
    }
   ],
   "source": [
    "print(entity)"
   ]
  },
  {
   "cell_type": "code",
   "execution_count": 97,
   "metadata": {},
   "outputs": [
    {
     "name": "stdout",
     "output_type": "stream",
     "text": [
      "After COVID-19, patients have reported various complaints such as fatigue, neurological symptoms, and insomnia. Immune-mediated changes in amino acid metabolism might contribute to the development of these symptoms. Patients who had had acute, PCR-confirmed COVID-19 infection about 60 days earlier were recruited within the scope of the prospective CovILD study. We determined the inflammatory parameters and alterations in tryptophan and phenylalanine metabolism in 142 patients cross-sectionally. Symptom persistence (pain, gastrointestinal symptoms, anosmia, sleep disturbance, and neurological symptoms) and patients' physical levels of functioning were recorded. Symptoms improved in many patients after acute COVID-19 (n = 73, 51.4%). Still, a high percentage of patients had complaints, and women were affected more often. In many patients, ongoing immune activation (as indicated by high neopterin and CRP concentrations) and enhanced tryptophan catabolism were found. A higher phenylalanine to tyrosine ratio (Phe/Tyr) was found in women with a lower level of functioning. Patients who reported improvements in pain had lower Phe/Tyr ratios, while patients with improved gastrointestinal symptoms presented with higher tryptophan and kynurenine values. Our results suggest that women have persistent symptoms after COVID-19 more often than men. In addition, the physical level of functioning and the improvements in certain symptoms appear to be associated with immune-mediated changes in amino acid metabolism.\n"
     ]
    }
   ],
   "source": [
    "print(mutation_abstract[1])\n"
   ]
  },
  {
   "cell_type": "code",
   "execution_count": 98,
   "metadata": {},
   "outputs": [
    {
     "name": "stdout",
     "output_type": "stream",
     "text": [
      "            pmid  start   end        entity   annotation  \\\n",
      "50832   36857178   1119  1127      -2604G>A  DNAMutation   \n",
      "123137  35639041    812   815           A1C  DNAMutation   \n",
      "136845  35384599    806   818  c.1045 C > T  DNAMutation   \n",
      "193433  34387618    861   864           T2A  DNAMutation   \n",
      "243496  33299899    849   852           A2A  DNAMutation   \n",
      "\n",
      "                                                     text  \n",
      "50832   tmVar:c|SUB|G|-2604|A;HGVS:c.-2604G>A;VariantG...  \n",
      "123137  tmVar:c|SUB|A|1|C;HGVS:c.1A>C;VariantGroup:0;C...  \n",
      "136845  tmVar:c|SUB|C|1045|T;HGVS:c.1045C>T;VariantGro...  \n",
      "193433       tmVar:c|SUB|T|2|A;HGVS:c.2T>A;VariantGroup:0  \n",
      "243496  tmVar:c|SUB|A|2|A;HGVS:c.2A>A;VariantGroup:0;C...  \n"
     ]
    }
   ],
   "source": [
    "DNAMutation_entity = entity[entity['annotation'].str.contains('DNAMutation')].copy()\n",
    "print(DNAMutation_entity)"
   ]
  }
 ],
 "metadata": {
  "kernelspec": {
   "display_name": "dzx_env",
   "language": "python",
   "name": "python3"
  },
  "language_info": {
   "codemirror_mode": {
    "name": "ipython",
    "version": 3
   },
   "file_extension": ".py",
   "mimetype": "text/x-python",
   "name": "python",
   "nbconvert_exporter": "python",
   "pygments_lexer": "ipython3",
   "version": "3.1.0"
  }
 },
 "nbformat": 4,
 "nbformat_minor": 2
}
